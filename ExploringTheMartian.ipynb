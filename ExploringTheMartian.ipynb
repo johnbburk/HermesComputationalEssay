{
 "cells": [
  {
   "cell_type": "markdown",
   "metadata": {},
   "source": [
    "*In the 2015 movie The Martian, a rocket flying to Mars makes the trip in two legs of the journey: during the first half of the trip, they are constantly burning their engines, accelerating the entire time. Then, during the second half of the trip, they turn the rocket around and blast in reverse so that they can slow down to pick up an astronaut stranded on Mars. At no point in the journey do they turn off the engines and just coast. Is this the most efficient way to get to Mars? Why or why not?*\n"
   ]
  },
  {
   "cell_type": "markdown",
   "metadata": {},
   "source": [
    "![](https://briankoberlein.com/wp-content/uploads/maxresdefault5-1200x563.jpg)"
   ]
  },
  {
   "cell_type": "code",
   "execution_count": 1,
   "metadata": {},
   "outputs": [],
   "source": [
    "import matplotlib.pyplot as plt\n",
    "from math import *"
   ]
  },
  {
   "cell_type": "markdown",
   "metadata": {},
   "source": [
    "Let's start by defining a variable for the distance to Mars. "
   ]
  },
  {
   "cell_type": "code",
   "execution_count": 2,
   "metadata": {},
   "outputs": [],
   "source": [
    "marsDist = 225E9 #m"
   ]
  },
  {
   "cell_type": "markdown",
   "metadata": {},
   "source": [
    "From this [article](https://briankoberlein.com/2015/10/06/the-science-behind-the-martian-hermes-spacecraft/) about the Hermes spacecraft, we see that the Hermes was driven at a constant acceleration of $2\\;\\textrm{mm/s}^2$. "
   ]
  },
  {
   "cell_type": "code",
   "execution_count": 3,
   "metadata": {},
   "outputs": [],
   "source": [
    "a_Hermes =0.002"
   ]
  },
  {
   "cell_type": "markdown",
   "metadata": {},
   "source": [
    "We will simplify this problem to consider a 1D journey from Earth to Mars, with the spacecraft starting and ending at rest, and traveling a distance of 225 million km. "
   ]
  },
  {
   "cell_type": "markdown",
   "metadata": {},
   "source": [
    "### Analytical solution"
   ]
  },
  {
   "cell_type": "markdown",
   "metadata": {},
   "source": [
    "![](Earth-Mars.png)"
   ]
  },
  {
   "cell_type": "markdown",
   "metadata": {},
   "source": [
    "If we assume that the spacecraft reverses its acceleration at $\\frac{d}{2}$, we can algebraically solve for the time it will take Hermes to reach Mars. We can begin by calculating the time it takes to reach the halfway point using kinematic equations. "
   ]
  },
  {
   "cell_type": "markdown",
   "metadata": {},
   "source": [
    "$$\\frac{1}{2}d=x_0+v_0t+\\frac{1}{2}at^2$$"
   ]
  },
  {
   "cell_type": "markdown",
   "metadata": {},
   "source": [
    "Starting with an initial position of 0, and an initial velocity of 0, this equation simplifies to"
   ]
  },
  {
   "cell_type": "markdown",
   "metadata": {},
   "source": [
    "$$d=at^2$$"
   ]
  },
  {
   "cell_type": "markdown",
   "metadata": {},
   "source": [
    "Solving for $t$:"
   ]
  },
  {
   "cell_type": "markdown",
   "metadata": {},
   "source": [
    "$$t=\\sqrt{\\frac{d}{a}}$$"
   ]
  },
  {
   "cell_type": "markdown",
   "metadata": {},
   "source": [
    "This motion is symmetric, so it will take the same time to slow reach Mars, making the total time, $T_{Heremes}$, "
   ]
  },
  {
   "cell_type": "markdown",
   "metadata": {},
   "source": [
    "$$T_{Heremes} = 2t = 2\\sqrt{\\frac{d}{a}}$$"
   ]
  },
  {
   "cell_type": "code",
   "execution_count": 4,
   "metadata": {},
   "outputs": [
    {
     "name": "stdout",
     "output_type": "stream",
     "text": [
      "245.52318791199568\n"
     ]
    }
   ],
   "source": [
    "T_Hermes = 2*sqrt(marsDist/a_Hermes) #days\n",
    "print(T_Hermes/3600/24)"
   ]
  },
  {
   "cell_type": "markdown",
   "metadata": {},
   "source": [
    "For comparison, let's consider a simplified version of the SpaceX mission to Mars using the Big Falcon Rocket (BFR). In this case, the rocket will accelerate briefly to a maximum speed, and maintain that speed for the journey until it breifly deaccelerates when arriving at Mars. We will use the following assumptions: "
   ]
  },
  {
   "cell_type": "code",
   "execution_count": 5,
   "metadata": {},
   "outputs": [
    {
     "name": "stdout",
     "output_type": "stream",
     "text": [
      "Avg accel in g's 1.25\n",
      "Deacceleration time in s 125.0\n"
     ]
    }
   ],
   "source": [
    "BFR_maxV=7.5e3 #m/s\n",
    "BFR_thrustT=600 #s\n",
    "BFR_accel=7.5e3/BFR_thrustT\n",
    "max_deaccel=60 #m/s/s\n",
    "BFR_deaccelT=BFR_maxV/max_deaccel\n",
    "\n",
    "print (\"Avg accel in g's\",BFR_accel/10)\n",
    "print (\"Deacceleration time in s\",BFR_deaccelT)\n"
   ]
  },
  {
   "cell_type": "markdown",
   "metadata": {},
   "source": [
    "We can illustrate the motion of this spacecraft with a velocity vs time graph, and use it to help us to solve for the total travel time, $T_{BFR}$:"
   ]
  },
  {
   "cell_type": "markdown",
   "metadata": {},
   "source": [
    "![](BFR_V_Graph.jpg)"
   ]
  },
  {
   "cell_type": "code",
   "execution_count": 6,
   "metadata": {},
   "outputs": [
    {
     "name": "stdout",
     "output_type": "stream",
     "text": [
      "347.2264178240741\n"
     ]
    }
   ],
   "source": [
    "T_BFR=(marsDist-1/2*BFR_accel*BFR_thrustT**2-1/2*max_deaccel*BFR_deaccelT**2)/BFR_maxV+BFR_thrustT+BFR_deaccelT\n",
    "print(T_BFR/3600/24)"
   ]
  },
  {
   "cell_type": "markdown",
   "metadata": {},
   "source": [
    "We can similarly deirve an algebraic expression for the time it takes a conventional spacecraft to reach Mars."
   ]
  },
  {
   "cell_type": "code",
   "execution_count": 7,
   "metadata": {},
   "outputs": [
    {
     "data": {
      "text/plain": [
       "101.70322991207841"
      ]
     },
     "execution_count": 7,
     "metadata": {},
     "output_type": "execute_result"
    }
   ],
   "source": [
    "(T_BFR-T_Hermes)/3600/24 #days"
   ]
  },
  {
   "cell_type": "markdown",
   "metadata": {},
   "source": [
    "In this case, the journey to Mars using the conventional rocket takes about 100 additional days, risking additional radiation exposure. The BFR journey also exposes the astronauts to much larger accelerations, albeit for shorter amounts of time, during launch and re-entry. For this simplification, the ion drive does appear to be the more efficient way to get to Mars.  \n",
    "\n",
    "We can also see this data visually using matplotlib. "
   ]
  },
  {
   "cell_type": "markdown",
   "metadata": {},
   "source": [
    "We'll need to create a list to store the velocity and time series data for the Hermes\n"
   ]
  },
  {
   "cell_type": "code",
   "execution_count": 8,
   "metadata": {},
   "outputs": [],
   "source": [
    "Hermes_v=[]\n",
    "Hermes_t=[]"
   ]
  },
  {
   "cell_type": "code",
   "execution_count": 9,
   "metadata": {},
   "outputs": [],
   "source": [
    "T_Hermes_days = T_Hermes/3600/24"
   ]
  },
  {
   "cell_type": "markdown",
   "metadata": {},
   "source": [
    "We can use a loop to calculate the velocity of the Hermes after each hour (to avoid integration erros), and append every 24th value to our arrays. "
   ]
  },
  {
   "cell_type": "code",
   "execution_count": 10,
   "metadata": {},
   "outputs": [],
   "source": [
    "t=0\n",
    "dt = 1 #time steps are in hours\n",
    "v_Hermes = 0\n",
    "while t/24 < T_Hermes_days:\n",
    "    if t/24 < T_Hermes_days/2:\n",
    "        v_Hermes = v_Hermes + a_Hermes *3600\n",
    "    else:\n",
    "        v_Hermes = v_Hermes - a_Hermes *3600 \n",
    "    t = t + dt\n",
    "    if t % 24 == 0:\n",
    "        Hermes_v.append(v_Hermes)\n",
    "        Hermes_t.append(t/24)\n",
    "        "
   ]
  },
  {
   "cell_type": "markdown",
   "metadata": {},
   "source": [
    "We can do a similar calculation for the conventional rocket. We will need to use a smaller timestep in this calculation since the acceleration and deacceleration phases of the rocket are so short. "
   ]
  },
  {
   "cell_type": "code",
   "execution_count": 11,
   "metadata": {},
   "outputs": [],
   "source": [
    "BFR_v =[]\n",
    "BFR_t =[]"
   ]
  },
  {
   "cell_type": "code",
   "execution_count": 12,
   "metadata": {},
   "outputs": [],
   "source": [
    "BFR_days = T_BFR/3600/24"
   ]
  },
  {
   "cell_type": "code",
   "execution_count": 13,
   "metadata": {},
   "outputs": [],
   "source": [
    "t=0\n",
    "dt=1 #time steps are in seconds\n",
    "v_BFR = 0\n",
    "while t/3600/24 < BFR_days:\n",
    "    if t < 600:\n",
    "        #update velocity\n",
    "        v_BFR = v_BFR+BFR_accel\n",
    "        dt = 1\n",
    "        BFR_v.append(v_BFR)\n",
    "        BFR_t.append(t/3600/24)\n",
    "    elif t > T_BFR-BFR_deaccelT:\n",
    "        v_BFR =v_BFR-max_deaccel\n",
    "        dt = 1\n",
    "        BFR_v.append(v_BFR)\n",
    "        BFR_t.append(t/3600/24)\n",
    "    else:\n",
    "        if t % (3600*24):\n",
    "            BFR_v.append(v_BFR)\n",
    "            BFR_t.append(t/3600/24)  #record times in days\n",
    "    t = t + dt\n",
    "    \n",
    "        "
   ]
  },
  {
   "cell_type": "code",
   "execution_count": 14,
   "metadata": {},
   "outputs": [
    {
     "data": {
      "text/plain": [
       "[<matplotlib.lines.Line2D at 0x145540b38>,\n",
       " <matplotlib.lines.Line2D at 0x145540d30>]"
      ]
     },
     "execution_count": 14,
     "metadata": {},
     "output_type": "execute_result"
    },
    {
     "data": {
      "image/png": "[encoded data removed]",
      "text/plain": [
       "<Figure size 432x288 with 1 Axes>"
      ]
     },
     "metadata": {
      "needs_background": "light"
     },
     "output_type": "display_data"
    }
   ],
   "source": [
    "plt.plot(BFR_t,BFR_v,'r',Hermes_t,Hermes_v,'b')"
   ]
  },
  {
   "cell_type": "markdown",
   "metadata": {},
   "source": [
    "Note that the acceleration and deacelleration phases of the conventional rocket are very short—a few minutes, and thus when drawn on a horizontal scale measured in days, appear nearly vertical. "
   ]
  },
  {
   "cell_type": "markdown",
   "metadata": {},
   "source": [
    "### A rocket with varying mass"
   ]
  },
  {
   "cell_type": "markdown",
   "metadata": {},
   "source": [
    "In both of these scenarios, we've made an assumption that the mass of the spacecraft remains constant throughout its journey. Given that the mass of most rockets is fuel, this assumption is not very physical. Using the computational modeling power of python, we can devise a better model assuming a varying mass rocket. "
   ]
  },
  {
   "cell_type": "markdown",
   "metadata": {},
   "source": [
    "In [this paper](https://ntrs.nasa.gov/archive/nasa/casi.ntrs.nasa.gov/20150019662.pdf), NASA scientist, Laura Burke, calculates a realistic trajectory of the Heremes taking into account the varying mass of the spacecraft and the motion of Earth and Mars. Since details of these calculations are well beyond most first year physics courses, we will use her values to create parameters for our simplified 1-D model."
   ]
  },
  {
   "cell_type": "code",
   "execution_count": 15,
   "metadata": {},
   "outputs": [],
   "source": [
    "m_Hermes = 110e3 #kg\n",
    "m_Fuel = 126e3 #kg\n"
   ]
  },
  {
   "cell_type": "markdown",
   "metadata": {},
   "source": [
    "Assuming the acceleration of the Hermes listed above is the initial acceleration, we can calculate the initial thrust of the rocket using Newton's 2nd law."
   ]
  },
  {
   "cell_type": "code",
   "execution_count": 16,
   "metadata": {},
   "outputs": [],
   "source": [
    "Thrust = a_Hermes*(m_Fuel+m_Hermes)"
   ]
  },
  {
   "cell_type": "markdown",
   "metadata": {},
   "source": [
    "A more realistic assumption for our rocket is that this thrust will remain constant, while the mass of the rocket decreases. \n",
    "\n",
    "In Burke's much more comprehensive paper that calculated a realistic trajectory for the Hermes, she assumed a constant specific impulse of 5000s. Specific Impulse is a commonly used quantity in rcketry, ans is usually abbreviated $I_{sp}$. It is a measure of how effectively a rocket uses propellant or a jet engine uses fuel. By definition, it is the total impulse (or change in momentum) delivered per unit of propellant consume and is dimensionally equivalent to the generated thrust divided by the propellant mass flow rate or weight flow rate.We can calulcate the mass change rate knowing the specific Impulse, $I_{sp} = \\frac{F}{\\frac{dm}{dt}g}$"
   ]
  },
  {
   "cell_type": "code",
   "execution_count": 17,
   "metadata": {},
   "outputs": [
    {
     "name": "stdout",
     "output_type": "stream",
     "text": [
      "0.009632653061224489\n"
     ]
    }
   ],
   "source": [
    "I_sp = 5000\n",
    "dmdt=Thrust/9.8/I_sp\n",
    "\n",
    "print(dmdt)"
   ]
  },
  {
   "cell_type": "markdown",
   "metadata": {},
   "source": [
    "The mass of the Hermes spacecraft is decreasing at a rate of 0.009 kg per second. "
   ]
  },
  {
   "cell_type": "markdown",
   "metadata": {},
   "source": [
    "At some point, $t_p$, the Herems will reorient itself so that its ion engine switches from accelerating the spacecraft to decaccelerating the spacecraft. Our challenge is that we don't know at what point this will be. If $t_p$ is too soon, Hermes will decaccerate to the point where it begins to speed up in the direction of earth, effectively \"turning around\" and will never reach Mars. If $t_p$ is too late, Hermes will still be moving when it passes Mars. \n",
    "\n",
    "Our goal is to find the smallest value of $t_p$ so that 1. Hermes reaches Mars and 2. has a velocity of 0 m/s when it arrives.\n",
    "\n",
    "This is a challenging problem to solve analytically—some of the steps involve calculus that would be accessible to the introductory physics students, but a complete analytical solution is well beyond introductory physics. \n",
    "\n",
    "It is possible to solve this problem computationally by creating a loop to test different values of $t_p$ until we arrive at one that satisfies conditions 1 and 2 above."
   ]
  },
  {
   "cell_type": "markdown",
   "metadata": {},
   "source": [
    "We can write a computational model to calculate the position of the Heremes"
   ]
  },
  {
   "cell_type": "code",
   "execution_count": 18,
   "metadata": {},
   "outputs": [
    {
     "name": "stdout",
     "output_type": "stream",
     "text": [
      "fail-didn't reach mars 58\n",
      "fail-didn't reach mars 59\n",
      "success--reached mars 60\n",
      "1.0000000217312763\n",
      "183.15199074074073\n",
      "5090.316399704074\n"
     ]
    }
   ],
   "source": [
    "pos = 0\n",
    "v = 0\n",
    "t = 0\n",
    "dt = 1 #seconds\n",
    "Mtot =m_Hermes + m_Fuel\n",
    "for tp in range(58,100): #search over possible values for the t_p as a percent of the total trip distance\n",
    "    pos = 0\n",
    "    v = 0\n",
    "    t = 0\n",
    "    Mtot =m_Hermes + m_Fuel\n",
    "    while pos < marsDist:\n",
    "        #update velocity\n",
    "        if pos < tp/100*marsDist:\n",
    "            v = v + Thrust/Mtot*dt #accelerate\n",
    "        else:\n",
    "            v = v - Thrust/Mtot*dt #deaccelerate\n",
    "        if v < 0:\n",
    "            print(\"fail-didn't reach mars\", tp)\n",
    "            \n",
    "            break\n",
    "        #update mass\n",
    "        Mtot = Mtot - dmdt*dt\n",
    "        #update position\n",
    "        pos = pos + v*dt\n",
    "        #update time\n",
    "        t = t+dt\n",
    "    if pos > marsDist:\n",
    "        print(\"success--reached mars\", tp)\n",
    "        break\n",
    "\n",
    "print(pos/marsDist)\n",
    "print(t/24/3600)\n",
    "print(v)"
   ]
  },
  {
   "cell_type": "markdown",
   "metadata": {},
   "source": [
    "If Heremes begins to reverse its thurst at 59% of the distance to Mars, it will just arrive at Mars with a velocity of around 5000m /s. \n",
    "\n",
    "We can also see this graphically. "
   ]
  },
  {
   "cell_type": "code",
   "execution_count": 19,
   "metadata": {},
   "outputs": [],
   "source": [
    "RHermes_v=[]\n",
    "RHermes_t=[]"
   ]
  },
  {
   "cell_type": "code",
   "execution_count": 20,
   "metadata": {},
   "outputs": [],
   "source": [
    "pos = 0\n",
    "v = 0\n",
    "t = 0\n",
    "Mtot =m_Hermes + m_Fuel\n",
    "while pos < marsDist:\n",
    "    if pos < .59*marsDist:\n",
    "         v = v + Thrust/Mtot*dt\n",
    "    else:\n",
    "         v = v - Thrust/Mtot*dt\n",
    "    if v < 0:            \n",
    "        break\n",
    "    Mtot = Mtot - dmdt*dt\n",
    "    pos = pos + v*dt\n",
    "    t = t+dt     \n",
    "    RHermes_v.append(v)\n",
    "    RHermes_t.append(t/3600/24)\n",
    "    if pos > marsDist: \n",
    "        break"
   ]
  },
  {
   "cell_type": "code",
   "execution_count": 21,
   "metadata": {
    "scrolled": false
   },
   "outputs": [
    {
     "data": {
      "text/plain": [
       "[<matplotlib.lines.Line2D at 0x20864a748>]"
      ]
     },
     "execution_count": 21,
     "metadata": {},
     "output_type": "execute_result"
    },
    {
     "data": {
      "image/png": "[encoded data removed]",
      "text/plain": [
       "<Figure size 432x288 with 1 Axes>"
      ]
     },
     "metadata": {
      "needs_background": "light"
     },
     "output_type": "display_data"
    }
   ],
   "source": [
    "plt.plot(RHermes_t,RHermes_v)"
   ]
  },
  {
   "cell_type": "markdown",
   "metadata": {},
   "source": [
    "Combining all three scenarios into a sigle graph, we get:"
   ]
  },
  {
   "cell_type": "code",
   "execution_count": 22,
   "metadata": {},
   "outputs": [
    {
     "data": {
      "text/plain": [
       "[<matplotlib.lines.Line2D at 0x20b6794e0>,\n",
       " <matplotlib.lines.Line2D at 0x20b5e3e10>,\n",
       " <matplotlib.lines.Line2D at 0x20b5ed1d0>]"
      ]
     },
     "execution_count": 22,
     "metadata": {},
     "output_type": "execute_result"
    },
    {
     "data": {
      "image/png": "[encoded data removed]",
      "text/plain": [
       "<Figure size 432x288 with 1 Axes>"
      ]
     },
     "metadata": {
      "needs_background": "light"
     },
     "output_type": "display_data"
    }
   ],
   "source": [
    "plt.plot(BFR_t,BFR_v,'r',Hermes_t,Hermes_v,'b',RHermes_t,RHermes_v,'g')"
   ]
  },
  {
   "cell_type": "markdown",
   "metadata": {},
   "source": [
    "From this graph, we can see that the Ion drive delivers even better performeance than our previous constant acceleration assumption. In the constant thrust ion drive scenario, Hermes arrives at Mars in 180 days, almost 60 days ahead of the constant acceleration ion drive case. This shorter trip time reduces the time of radiation exposure, reducing the amount of food and supplies that must be carried on board, and also possibly reducing the need for radiation shielding, since the exposure time is shorter. Additionally, the acceleration in the ion drive scenairos are far smaller and therefore more comofortable than the accelerations experienced on the conventional rocket during its short ascent and descent periods. "
   ]
  },
  {
   "cell_type": "code",
   "execution_count": null,
   "metadata": {},
   "outputs": [],
   "source": []
  }
 ],
 "metadata": {
  "kernelspec": {
   "display_name": "Python 3",
   "language": "python",
   "name": "python3"
  },
  "language_info": {
   "codemirror_mode": {
    "name": "ipython",
    "version": 3
   },
   "file_extension": ".py",
   "mimetype": "text/x-python",
   "name": "python",
   "nbconvert_exporter": "python",
   "pygments_lexer": "ipython3",
   "version": "3.7.2"
  }
 },
 "nbformat": 4,
 "nbformat_minor": 2
}
